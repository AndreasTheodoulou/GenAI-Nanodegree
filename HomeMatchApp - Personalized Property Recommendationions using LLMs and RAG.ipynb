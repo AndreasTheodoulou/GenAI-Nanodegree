{
 "cells": [
  {
   "cell_type": "markdown",
   "id": "a108af04",
   "metadata": {},
   "source": [
    "This is a starter notebook for the project, you'll have to import the libraries you'll need, you can find a list of the ones available in this workspace in the requirements.txt file in this workspace. "
   ]
  },
  {
   "cell_type": "code",
   "execution_count": 45,
   "id": "6554fd4c",
   "metadata": {},
   "outputs": [],
   "source": [
    "import os\n",
    "\n",
    "os.environ[\"OPENAI_API_KEY\"] = \"voc-9095091411266773732140677406abc70071.75282992\"\n",
    "os.environ[\"OPENAI_API_BASE\"] = \"https://openai.vocareum.com/v1\"\n",
    "\n",
    "from langchain.llms import OpenAI\n",
    "from langchain.prompts import PromptTemplate"
   ]
  },
  {
   "cell_type": "code",
   "execution_count": 46,
   "id": "6d366b2c",
   "metadata": {},
   "outputs": [],
   "source": [
    "model_name = 'gpt-3.5-turbo'\n",
    "llm = OpenAI(model_name=model_name, temperature=0)"
   ]
  },
  {
   "cell_type": "markdown",
   "id": "8f67451a",
   "metadata": {},
   "source": [
    "# Generate Synthetic Property Listings with LLM"
   ]
  },
  {
   "cell_type": "markdown",
   "id": "44a116c2",
   "metadata": {},
   "source": [
    "### Create an output parser to ensure LLM outputs are structured"
   ]
  },
  {
   "cell_type": "code",
   "execution_count": 47,
   "id": "f8a15c15",
   "metadata": {},
   "outputs": [],
   "source": [
    "from langchain.output_parsers import PydanticOutputParser\n",
    "from pydantic import BaseModel, Field\n",
    "from typing import List\n",
    "\n",
    "class PropertyListing(BaseModel):\n",
    "    PropertyID: int = Field(description=\"The ID of the property.\")\n",
    "    Neighborhood: str = Field(description=\"The name of the neighborhood.\")\n",
    "    Price: str = Field(description=\"The price of the property.\")\n",
    "    Bedrooms: int = Field(description=\"The number of bedrooms.\")\n",
    "    Bathrooms: int = Field(description=\"The number of bathrooms.\")\n",
    "    HouseSize: str = Field(description=\"The size of the house.\")\n",
    "    Description: str = Field(description=\"The description of the property.\")\n",
    "    NeighborhoodDescription: str = Field(description=\"The description of the neighborhood.\")\n",
    "\n",
    "class ListingsOutput(BaseModel):\n",
    "    listings: List[PropertyListing] = Field(description=\"A list of property listings.\")\n",
    "\n",
    "# Initialize the parser\n",
    "output_parser = PydanticOutputParser(pydantic_object=ListingsOutput)"
   ]
  },
  {
   "cell_type": "markdown",
   "id": "166201b2",
   "metadata": {},
   "source": [
    "### Create Prompt"
   ]
  },
  {
   "cell_type": "code",
   "execution_count": 48,
   "id": "da6cf485",
   "metadata": {},
   "outputs": [
    {
     "name": "stdout",
     "output_type": "stream",
     "text": [
      "\n",
      "Generate 15 property listings with IDs, based on the below instructions and example. \n",
      "\n",
      "Instructions:The output should be formatted as a JSON instance that conforms to the JSON schema below.\n",
      "\n",
      "As an example, for the schema {\"properties\": {\"foo\": {\"title\": \"Foo\", \"description\": \"a list of strings\", \"type\": \"array\", \"items\": {\"type\": \"string\"}}}, \"required\": [\"foo\"]}\n",
      "the object {\"foo\": [\"bar\", \"baz\"]} is a well-formatted instance of the schema. The object {\"properties\": {\"foo\": [\"bar\", \"baz\"]}} is not well-formatted.\n",
      "\n",
      "Here is the output schema:\n",
      "```\n",
      "{\"properties\": {\"listings\": {\"title\": \"Listings\", \"description\": \"A list of property listings.\", \"type\": \"array\", \"items\": {\"$ref\": \"#/definitions/PropertyListing\"}}}, \"required\": [\"listings\"], \"definitions\": {\"PropertyListing\": {\"title\": \"PropertyListing\", \"type\": \"object\", \"properties\": {\"PropertyID\": {\"title\": \"Propertyid\", \"description\": \"The ID of the property.\", \"type\": \"integer\"}, \"Neighborhood\": {\"title\": \"Neighborhood\", \"description\": \"The name of the neighborhood.\", \"type\": \"string\"}, \"Price\": {\"title\": \"Price\", \"description\": \"The price of the property.\", \"type\": \"string\"}, \"Bedrooms\": {\"title\": \"Bedrooms\", \"description\": \"The number of bedrooms.\", \"type\": \"integer\"}, \"Bathrooms\": {\"title\": \"Bathrooms\", \"description\": \"The number of bathrooms.\", \"type\": \"integer\"}, \"HouseSize\": {\"title\": \"Housesize\", \"description\": \"The size of the house.\", \"type\": \"string\"}, \"Description\": {\"title\": \"Description\", \"description\": \"The description of the property.\", \"type\": \"string\"}, \"NeighborhoodDescription\": {\"title\": \"Neighborhooddescription\", \"description\": \"The description of the neighborhood.\", \"type\": \"string\"}}, \"required\": [\"PropertyID\", \"Neighborhood\", \"Price\", \"Bedrooms\", \"Bathrooms\", \"HouseSize\", \"Description\", \"NeighborhoodDescription\"]}}}\n",
      "```\n",
      "Example: \n",
      "{\n",
      "  \"listings\": [\n",
      "    {\n",
      "      \"PropertyID\": 1,\n",
      "      \"Neighborhood\": \"Green Oaks\",\n",
      "      \"Price\": \"$800,000\",\n",
      "      \"Bedrooms\": 3,\n",
      "      \"Bathrooms\": 2,\n",
      "      \"HouseSize\": \"2,000 sqft\",\n",
      "      \"Description\": \"Welcome to this eco-friendly oasis nestled in the heart of Green Oaks. This charming 3-bedroom, 2-bathroom home boasts energy-efficient features such as solar panels and a well-insulated structure. Natural light floods the living spaces, highlighting the beautiful hardwood floors and eco-conscious finishes. The open-concept kitchen and dining area lead to a spacious backyard with a vegetable garden, perfect for the eco-conscious family. Embrace sustainable living without compromising on style in this Green Oaks gem.\",\n",
      "      \"NeighborhoodDescription\": \"Green Oaks is a close-knit, environmentally-conscious community with access to organic grocery stores, community gardens, and bike paths. Take a stroll through the nearby Green Oaks Park or grab a cup of coffee at the cozy Green Bean Cafe. With easy access to public transportation and bike lanes, commuting is a breeze.\"\n",
      "    }\n",
      "  ]\n",
      "}\n",
      "\n"
     ]
    }
   ],
   "source": [
    "# Format your query to include parsing instructions\n",
    "format_instructions = output_parser.get_format_instructions()\n",
    "\n",
    "prompt = PromptTemplate(\n",
    "    template=\"{question}\\nInstructions:{format_instructions}\\nExample: {example}\",\n",
    "    input_variables=[\"question\", \"example\"],\n",
    "    partial_variables = {\"format_instructions\": format_instructions}\n",
    ")\n",
    "\n",
    "total_listings = 15\n",
    "question = f\"\"\"\n",
    "Generate {total_listings} property listings with IDs, based on the below instructions and example. \n",
    "\"\"\".format(total_listings)\n",
    "\n",
    "example = \"\"\"\n",
    "{\n",
    "  \"listings\": [\n",
    "    {\n",
    "      \"PropertyID\": 1,\n",
    "      \"Neighborhood\": \"Green Oaks\",\n",
    "      \"Price\": \"$800,000\",\n",
    "      \"Bedrooms\": 3,\n",
    "      \"Bathrooms\": 2,\n",
    "      \"HouseSize\": \"2,000 sqft\",\n",
    "      \"Description\": \"Welcome to this eco-friendly oasis nestled in the heart of Green Oaks. This charming 3-bedroom, 2-bathroom home boasts energy-efficient features such as solar panels and a well-insulated structure. Natural light floods the living spaces, highlighting the beautiful hardwood floors and eco-conscious finishes. The open-concept kitchen and dining area lead to a spacious backyard with a vegetable garden, perfect for the eco-conscious family. Embrace sustainable living without compromising on style in this Green Oaks gem.\",\n",
    "      \"NeighborhoodDescription\": \"Green Oaks is a close-knit, environmentally-conscious community with access to organic grocery stores, community gardens, and bike paths. Take a stroll through the nearby Green Oaks Park or grab a cup of coffee at the cozy Green Bean Cafe. With easy access to public transportation and bike lanes, commuting is a breeze.\"\n",
    "    }\n",
    "  ]\n",
    "}\n",
    "\"\"\"\n",
    "\n",
    "query = prompt.format(question = question, format_instructions = format_instructions, example = example)\n",
    "print(query)"
   ]
  },
  {
   "cell_type": "code",
   "execution_count": 49,
   "id": "fc5252cd",
   "metadata": {},
   "outputs": [
    {
     "name": "stdout",
     "output_type": "stream",
     "text": [
      "[PropertyListing(PropertyID=1, Neighborhood='Downtown Loft District', Price='$500,000', Bedrooms=2, Bathrooms=1, HouseSize='1,200 sqft', Description='Experience urban living at its finest in this stylish loft located in the heart of the Downtown Loft District. This 2-bedroom, 1-bathroom loft features high ceilings, exposed brick walls, and large windows offering stunning city views. The open floor plan is perfect for entertaining, and the modern kitchen is equipped with stainless steel appliances. Enjoy the convenience of living within walking distance to trendy restaurants, art galleries, and nightlife hotspots.', NeighborhoodDescription='The Downtown Loft District is a vibrant neighborhood known for its eclectic mix of art galleries, boutiques, and restaurants. Residents can enjoy easy access to public transportation and cultural events happening throughout the year.'), PropertyListing(PropertyID=2, Neighborhood='Suburban Paradise', Price='$700,000', Bedrooms=4, Bathrooms=3, HouseSize='2,500 sqft', Description='Escape to your own suburban paradise in this spacious 4-bedroom, 3-bathroom home. The property features a large backyard with a pool, perfect for outdoor entertaining. Inside, the home boasts a gourmet kitchen, a cozy fireplace in the living room, and a luxurious master suite. Enjoy the peace and tranquility of suburban living while still being close to shopping centers and top-rated schools.', NeighborhoodDescription='Suburban Paradise is a family-friendly neighborhood with tree-lined streets and parks. Residents can enjoy community events, farmers markets, and easy access to hiking trails and outdoor activities.'), PropertyListing(PropertyID=3, Neighborhood='Waterfront Retreat', Price='$1,200,000', Bedrooms=5, Bathrooms=4, HouseSize='3,500 sqft', Description='Indulge in luxury living at this stunning waterfront retreat. This 5-bedroom, 4-bathroom home offers panoramic views of the water from every room. The property features a private dock, a gourmet kitchen, a home theater, and a spacious deck for outdoor dining. Relax in the master suite with a spa-like bathroom and a private balcony overlooking the water. Experience resort-style living in this waterfront oasis.', NeighborhoodDescription='Waterfront Retreat is an exclusive waterfront community with private marinas, yacht clubs, and upscale dining options. Residents can enjoy water activities such as boating, fishing, and paddleboarding right in their backyard.'), PropertyListing(PropertyID=4, Neighborhood='Mountain View Estates', Price='$900,000', Bedrooms=4, Bathrooms=3, HouseSize='2,800 sqft', Description='Embrace mountain living in this spacious 4-bedroom, 3-bathroom home located in Mountain View Estates. The property features a large deck with breathtaking mountain views, perfect for enjoying the outdoors. Inside, the home boasts a gourmet kitchen, a cozy fireplace in the family room, and a luxurious master suite. Experience the beauty of nature while still being close to shopping centers and hiking trails.', NeighborhoodDescription='Mountain View Estates is a picturesque neighborhood surrounded by mountains and hiking trails. Residents can enjoy outdoor activities such as hiking, biking, and skiing in the nearby national parks.'), PropertyListing(PropertyID=5, Neighborhood='Historic District', Price='$600,000', Bedrooms=3, Bathrooms=2, HouseSize='1,800 sqft', Description='Step back in time with this charming 3-bedroom, 2-bathroom home located in the Historic District. The property features original hardwood floors, vintage fixtures, and a cozy front porch. The updated kitchen and bathrooms offer modern convenience while preserving the historic charm of the home. Enjoy living in a neighborhood rich in history and architectural character.', NeighborhoodDescription='The Historic District is a well-preserved neighborhood with historic homes, museums, and cultural landmarks. Residents can take a stroll through tree-lined streets and admire the unique architecture of the area.'), PropertyListing(PropertyID=6, Neighborhood='Lakefront Haven', Price='$1,500,000', Bedrooms=6, Bathrooms=5, HouseSize='4,000 sqft', Description='Live the lakefront lifestyle in this luxurious 6-bedroom, 5-bathroom home. The property features a private beach, a boat dock, and a lakeside deck for entertaining. Inside, the home boasts a gourmet kitchen, a home theater, and a spa-like master suite. Enjoy breathtaking views of the lake from every room and experience the ultimate in waterfront living.', NeighborhoodDescription='Lakefront Haven is an upscale lakefront community with private beaches, yacht clubs, and waterfront dining options. Residents can enjoy water activities such as boating, fishing, and swimming right in their backyard.'), PropertyListing(PropertyID=7, Neighborhood='Golf Course Community', Price='$800,000', Bedrooms=4, Bathrooms=3, HouseSize='2,600 sqft', Description='Live the golf course lifestyle in this elegant 4-bedroom, 3-bathroom home located in a prestigious golf course community. The property features a backyard overlooking the golf course, perfect for golf enthusiasts. Inside, the home boasts a gourmet kitchen, a formal dining room, and a spacious master suite. Enjoy the convenience of living in a community with golf amenities and social events.', NeighborhoodDescription='The Golf Course Community is a gated community with a championship golf course, tennis courts, and a clubhouse. Residents can enjoy golfing, social events, and dining options within the community.'), PropertyListing(PropertyID=8, Neighborhood='Ski Resort Retreat', Price='$1,000,000', Bedrooms=5, Bathrooms=4, HouseSize='3,200 sqft', Description='Escape to your own ski resort retreat in this luxurious 5-bedroom, 4-bathroom home. The property features a hot tub, a sauna, and a ski-in/ski-out access to the slopes. Inside, the home boasts a gourmet kitchen, a cozy fireplace in the living room, and a spa-like master suite. Experience the thrill of skiing in the winter and hiking in the summer from this mountain retreat.', NeighborhoodDescription='Ski Resort Retreat is a ski-in/ski-out community with access to world-class skiing, snowboarding, and outdoor activities. Residents can enjoy apres-ski activities, fine dining, and shopping in the nearby ski village.'), PropertyListing(PropertyID=9, Neighborhood='Equestrian Estate', Price='$2,000,000', Bedrooms=7, Bathrooms=6, HouseSize='5,000 sqft', Description='Live the equestrian lifestyle in this grand 7-bedroom, 6-bathroom estate. The property features a horse barn, riding arena, and acres of land for horses to roam. Inside, the home boasts a gourmet kitchen, a home theater, and a luxurious master suite. Enjoy the beauty of nature and the company of horses in this equestrian paradise.', NeighborhoodDescription='Equestrian Estate is a horse-friendly community with riding trails, equestrian events, and horse-friendly amenities. Residents can enjoy horseback riding, horse shows, and equestrian activities right in their backyard.'), PropertyListing(PropertyID=10, Neighborhood='Beachfront Villa', Price='$3,000,000', Bedrooms=8, Bathrooms=7, HouseSize='6,000 sqft', Description='Experience beachfront living in this luxurious 8-bedroom, 7-bathroom villa. The property features a private beach, a pool, and a cabana for outdoor entertaining. Inside, the villa boasts a gourmet kitchen, a home theater, and a spa-like master suite. Enjoy panoramic views of the ocean and the sound of waves crashing from this beachfront paradise.', NeighborhoodDescription='Beachfront Villa is an exclusive beachfront community with private beaches, beach clubs, and upscale dining options. Residents can enjoy water activities such as swimming, surfing, and beach volleyball right in their backyard.'), PropertyListing(PropertyID=11, Neighborhood='Ranch Retreat', Price='$1,500,000', Bedrooms=6, Bathrooms=5, HouseSize='4,500 sqft', Description='Escape to your own ranch retreat in this expansive 6-bedroom, 5-bathroom home. The property features acres of land for horses, a barn, and a riding arena. Inside, the home boasts a gourmet kitchen, a cozy fireplace in the living room, and a luxurious master suite. Experience the beauty of nature and the tranquility of ranch living in this private retreat.', NeighborhoodDescription='Ranch Retreat is a horse-friendly community with riding trails, equestrian events, and horse-friendly amenities. Residents can enjoy horseback riding, horse shows, and equestrian activities right in their backyard.'), PropertyListing(PropertyID=12, Neighborhood='Luxury Penthouse', Price='$2,500,000', Bedrooms=4, Bathrooms=3, HouseSize='3,000 sqft', Description='Live the high life in this luxurious 4-bedroom, 3-bathroom penthouse with panoramic city views. The property features a private rooftop terrace, a gourmet kitchen, and a home theater. The open floor plan is perfect for entertaining, and the master suite offers a spa-like bathroom and a walk-in closet. Experience luxury living in the heart of the city.', NeighborhoodDescription='Luxury Penthouse is a prestigious high-rise building with concierge services, a fitness center, and upscale dining options. Residents can enjoy the convenience of city living with access to shopping, dining, and cultural attractions.'), PropertyListing(PropertyID=13, Neighborhood='Vineyard Estate', Price='$2,200,000', Bedrooms=5, Bathrooms=4, HouseSize='4,200 sqft', Description='Live the wine country lifestyle in this elegant 5-bedroom, 4-bathroom estate surrounded by vineyards. The property features a wine cellar, a tasting room, and acres of vineyards for wine production. Inside, the estate boasts a gourmet kitchen, a formal dining room, and a luxurious master suite. Experience the beauty of wine country living in this vineyard estate.', NeighborhoodDescription='Vineyard Estate is a wine country community with vineyards, wineries, and wine tasting rooms. Residents can enjoy wine tours, wine tastings, and wine events in the nearby wine country.'), PropertyListing(PropertyID=14, Neighborhood='Historic Brownstone', Price='$1,800,000', Bedrooms=4, Bathrooms=3, HouseSize='3,500 sqft', Description='Step back in time with this historic 4-bedroom, 3-bathroom brownstone located in a historic district. The property features original architectural details, a private garden, and a rooftop terrace with city views. Inside, the brownstone boasts a gourmet kitchen, a formal dining room, and a cozy fireplace in the living room. Enjoy living in a piece of history with modern amenities.', NeighborhoodDescription='Historic Brownstone is a well-preserved historic district with brownstones, cobblestone streets, and historic landmarks. Residents can take a stroll through the historic district and admire the unique architecture of the area.'), PropertyListing(PropertyID=15, Neighborhood='Mountain Chalet', Price='$1,200,000', Bedrooms=5, Bathrooms=4, HouseSize='3,000 sqft', Description='Escape to the mountains in this cozy 5-bedroom, 4-bathroom chalet nestled in the mountains. The property features a hot tub, a sauna, and a deck with mountain views. Inside, the chalet boasts a gourmet kitchen, a stone fireplace in the living room, and a luxurious master suite. Experience the beauty of the mountains and the tranquility of mountain living in this chalet.', NeighborhoodDescription='Mountain Chalet is a mountain community with hiking trails, ski resorts, and outdoor activities. Residents can enjoy skiing, snowboarding, and hiking in the nearby national parks.')]\n"
     ]
    }
   ],
   "source": [
    "# Get the output and parse it\n",
    "output = llm.predict(query)\n",
    "parsed_output = output_parser.parse(output)\n",
    "\n",
    "# Access listings as a structured object\n",
    "print(parsed_output.listings)"
   ]
  },
  {
   "cell_type": "code",
   "execution_count": 50,
   "id": "074f0026",
   "metadata": {},
   "outputs": [
    {
     "name": "stdout",
     "output_type": "stream",
     "text": [
      "Total Number of tokens in query + listing ouputs: 3401\n"
     ]
    }
   ],
   "source": [
    "#check the total number of tokens used (max tokens for gpt 3.5 is 4096)\n",
    "import tiktoken\n",
    "import json\n",
    "\n",
    "# Initialize tokenizer (for OpenAI models like gpt-3.5-turbo or gpt-4)\n",
    "tokenizer = tiktoken.encoding_for_model(\"gpt-3.5-turbo\")\n",
    "# Convert listings to a string representation for token counting\n",
    "listings_text = json.dumps(parsed_output.dict())\n",
    "\n",
    "# Count tokens\n",
    "listing_tokens = len(tokenizer.encode(listings_text))\n",
    "query_tokens = len(tokenizer.encode(query))\n",
    "print(f\"Total Number of tokens in query + listing ouputs: {listing_tokens + query_tokens}\")"
   ]
  },
  {
   "cell_type": "markdown",
   "id": "2b7040e6",
   "metadata": {},
   "source": [
    "# Generate embeddings of property listings"
   ]
  },
  {
   "cell_type": "code",
   "execution_count": 51,
   "id": "6ede5629",
   "metadata": {},
   "outputs": [],
   "source": [
    "from langchain.embeddings.openai import OpenAIEmbeddings\n",
    "# Initialize the embeddings model\n",
    "embedding_model = OpenAIEmbeddings()"
   ]
  },
  {
   "cell_type": "code",
   "execution_count": 52,
   "id": "77e15bdd",
   "metadata": {},
   "outputs": [],
   "source": [
    "#use \"Full Description\" for embedding (both house and neighborhood)\n",
    "property_descriptions = parsed_output.dict()['listings'] \n",
    "for property_description in property_descriptions:\n",
    "    property_description['FullDescription'] = property_description['Description'] + \"\\n\" +  property_description['NeighborhoodDescription']"
   ]
  },
  {
   "cell_type": "code",
   "execution_count": 53,
   "id": "0275dc50",
   "metadata": {},
   "outputs": [],
   "source": [
    "property_text_to_embed = [property_description['FullDescription'] for property_description in property_descriptions]"
   ]
  },
  {
   "cell_type": "code",
   "execution_count": 54,
   "id": "1e378afc",
   "metadata": {},
   "outputs": [],
   "source": [
    "# Generate embeddings for a list of strings\n",
    "listing_embeddings = embedding_model.embed_documents(property_text_to_embed)"
   ]
  },
  {
   "cell_type": "markdown",
   "id": "b947b706",
   "metadata": {},
   "source": [
    "# Initialise Vector DB and store listing embeddings"
   ]
  },
  {
   "cell_type": "markdown",
   "id": "83204a8c",
   "metadata": {},
   "source": [
    "Format data"
   ]
  },
  {
   "cell_type": "code",
   "execution_count": 55,
   "id": "1fe16fb6",
   "metadata": {},
   "outputs": [],
   "source": [
    "# Function to drop keys\n",
    "def drop_keys_from_dict(d, keys_to_remove):\n",
    "    return {k: v for k, v in d.items() if k not in keys_to_remove}\n",
    "# Keys to remove\n",
    "keys_to_remove = ['PropertyID', 'Description', 'FullDescription', 'NeighborhoodDescription']\n",
    "metadatas = [drop_keys_from_dict(property_description, keys_to_remove) for property_description in property_descriptions]\n",
    "propertyIDs = [str(property_description['PropertyID']) for property_description in property_descriptions]\n",
    "\n",
    "for i in range(len(property_descriptions)):\n",
    "    property_descriptions[i]['embedding'] = listing_embeddings[i]"
   ]
  },
  {
   "cell_type": "markdown",
   "id": "434172fa",
   "metadata": {},
   "source": [
    "Chroma DB"
   ]
  },
  {
   "cell_type": "code",
   "execution_count": 56,
   "id": "20eb689d",
   "metadata": {},
   "outputs": [],
   "source": [
    "import chromadb\n",
    "from chromadb.config import Settings\n",
    "\n",
    "# Initialize the ChromaDB client with persistence\n",
    "client = chromadb.Client(Settings(persist_directory=\"db/\"))\n",
    "collection_name = \"property_listings\"\n",
    "#client.delete_collection(collection_name)\n",
    "collection = client.get_or_create_collection(name=collection_name)"
   ]
  },
  {
   "cell_type": "code",
   "execution_count": 66,
   "id": "ec9e9f90",
   "metadata": {},
   "outputs": [],
   "source": [
    "# Add data to ChromaDB\n",
    "collection.add(\n",
    "    embeddings = listing_embeddings,\n",
    "    documents = property_text_to_embed,\n",
    "    metadatas = metadatas,\n",
    "    ids = propertyIDs\n",
    ")"
   ]
  },
  {
   "cell_type": "code",
   "execution_count": 107,
   "id": "ca8d2478",
   "metadata": {},
   "outputs": [],
   "source": [
    "data = collection.get(include = [\"metadatas\", \"documents\", \"embeddings\"])"
   ]
  },
  {
   "cell_type": "markdown",
   "id": "d4b5e47a",
   "metadata": {},
   "source": [
    "Lance DB"
   ]
  },
  {
   "cell_type": "code",
   "execution_count": 22,
   "id": "5205fd66",
   "metadata": {},
   "outputs": [],
   "source": [
    "#!pip install lancedb"
   ]
  },
  {
   "cell_type": "code",
   "execution_count": 59,
   "id": "b98f0024",
   "metadata": {},
   "outputs": [],
   "source": [
    "# from lancedb.pydantic import vector, LanceModel\n",
    "# class property_listings(LanceModel):\n",
    "#     embedding: vector(1536)\n",
    "#     PropertyID: float\n",
    "#     Neighborhood: str\n",
    "#     Price: str\n",
    "#     Bedrooms: float\n",
    "#     Bathrooms: float\n",
    "#     HouseSize: str\n",
    "#     Description: str\n",
    "#     NeighborhoodDescription: str\n",
    "#     FullDescription: str\n",
    "\n",
    "# #Now connect to a local db at ~/.lancedb and create an empty LanceDB table called \n",
    "# import lancedb\n",
    "\n",
    "# db = lancedb.connect(\"~/.lancedb\")\n",
    "# table_name = \"property_listings\"\n",
    "# db.drop_table(table_name, ignore_missing=True)\n",
    "# table = db.create_table(table_name, schema=property_listings)\n",
    "\n",
    "#table.add(property_descriptions)\n",
    "\n",
    "#table.head(5).to_pandas()"
   ]
  },
  {
   "cell_type": "markdown",
   "id": "2b0049de",
   "metadata": {},
   "source": [
    "# Buyer's Preferences"
   ]
  },
  {
   "cell_type": "code",
   "execution_count": 110,
   "id": "89610e98",
   "metadata": {},
   "outputs": [
    {
     "name": "stdout",
     "output_type": "stream",
     "text": [
      "Q:How big do you want your house to be?\n",
      "A:A comfortable three-bedroom house with a spacious kitchen and a cozy living room.\n",
      "Q:What are 3 most important things for you in choosing this property?\n",
      "A:A quiet neighborhood, good local schools, and convenient shopping options.\n",
      "Q:Which amenities would you like?\n",
      "A:A backyard for gardening, a two-car garage, and a modern, energy-efficient heating system.\n",
      "Q:Which transportation options are important to you?\n",
      "A:Easy access to a reliable bus line, proximity to a major highway, and bike-friendly roads.\n",
      "Q:How urban do you want your neighborhood to be?\n",
      "A:A balance between suburban tranquility and access to urban amenities like restaurants and theaters.\n",
      "\n"
     ]
    }
   ],
   "source": [
    "questions = [   \n",
    "                \"How big do you want your house to be?\" ,\n",
    "                \"What are 3 most important things for you in choosing this property?\", \n",
    "                \"Which amenities would you like?\", \n",
    "                \"Which transportation options are important to you?\",\n",
    "                \"How urban do you want your neighborhood to be?\",   \n",
    "            ]\n",
    "answers = [\n",
    "    \"A comfortable three-bedroom house with a spacious kitchen and a cozy living room.\",\n",
    "    \"A quiet neighborhood, good local schools, and convenient shopping options.\",\n",
    "    \"A backyard for gardening, a two-car garage, and a modern, energy-efficient heating system.\",\n",
    "    \"Easy access to a reliable bus line, proximity to a major highway, and bike-friendly roads.\",\n",
    "    \"A balance between suburban tranquility and access to urban amenities like restaurants and theaters.\"]\n",
    "\n",
    "buyer_preferences = ''\n",
    "for Q, A in dict(zip(questions, answers)).items():\n",
    "    buyer_preferences += f\"Q:{Q}\\nA:{A}\\n\"\n",
    "    \n",
    "print(buyer_preferences)"
   ]
  },
  {
   "cell_type": "markdown",
   "id": "d8ad0339",
   "metadata": {},
   "source": [
    "# Retrieval (Semantic Search) for relevant property listings"
   ]
  },
  {
   "cell_type": "code",
   "execution_count": 111,
   "id": "6c2e81df",
   "metadata": {},
   "outputs": [],
   "source": [
    "# Phase 2: Implement an agent that first reads the answer/preference and first maps it to either house description or neighborhood description or both. then sends similarity to the relevant embedding\n",
    "# For each question can take average distance for a certain property."
   ]
  },
  {
   "cell_type": "markdown",
   "id": "4935abce",
   "metadata": {},
   "source": [
    "Chroma DB"
   ]
  },
  {
   "cell_type": "code",
   "execution_count": 112,
   "id": "2f0fe040",
   "metadata": {},
   "outputs": [],
   "source": [
    "# Generate embeddings for the query\n",
    "#Note for retrieval we just embed the answers to the questions\n",
    "query_embeddings = embedding_model.embed_documents([\"\".join(answers)])"
   ]
  },
  {
   "cell_type": "code",
   "execution_count": 113,
   "id": "ca902b28",
   "metadata": {},
   "outputs": [],
   "source": [
    "#search with chromeDB\n",
    "results = collection.query(\n",
    "    query_embeddings=query_embeddings,\n",
    "    n_results=2\n",
    ")"
   ]
  },
  {
   "cell_type": "markdown",
   "id": "52254f5f",
   "metadata": {},
   "source": [
    "# Property Recommendations and Personalized Descriptions through RAG and User Preferences"
   ]
  },
  {
   "cell_type": "markdown",
   "id": "f8a58b55",
   "metadata": {},
   "source": [
    "Prompt template"
   ]
  },
  {
   "cell_type": "code",
   "execution_count": 114,
   "id": "216afe51",
   "metadata": {},
   "outputs": [
    {
     "name": "stdout",
     "output_type": "stream",
     "text": [
      "\n",
      "You are a real estage agent that provides personalised property descriptions based on buyer's preferences.\n",
      "\n",
      "\n",
      "Based on the property listings in the Context, generate personalized descriptions for the listings.\n",
      "The descriptions should be unique, appealing, and tailored to resonate with the buyer’s specific preferences. \n",
      "This involves subtly emphasizing aspects of the property that align with what the buyer is looking for. \n",
      "Ensure that the context provided enhances the appeal of the listing without altering factual information.\n",
      " \n",
      "\n",
      "Buyer preferences are provided in a Q&A formatx.\n",
      "Buyer Preferences:\n",
      "Q:How big do you want your house to be?\n",
      "A:A comfortable three-bedroom house with a spacious kitchen and a cozy living room.\n",
      "Q:What are 3 most important things for you in choosing this property?\n",
      "A:A quiet neighborhood, good local schools, and convenient shopping options.\n",
      "Q:Which amenities would you like?\n",
      "A:A backyard for gardening, a two-car garage, and a modern, energy-efficient heating system.\n",
      "Q:Which transportation options are important to you?\n",
      "A:Easy access to a reliable bus line, proximity to a major highway, and bike-friendly roads.\n",
      "Q:How urban do you want your neighborhood to be?\n",
      "A:A balance between suburban tranquility and access to urban amenities like restaurants and theaters.\n",
      "\n",
      "\n"
     ]
    }
   ],
   "source": [
    "# Define the system prompt\n",
    "system_prompt = \"You are a real estage agent that provides personalised property descriptions based on buyer's preferences.\"\n",
    "\n",
    "\n",
    "instructions = \"\"\"\n",
    "Based on the property listings in the Context, generate personalized descriptions for the listings.\n",
    "The descriptions should be unique, appealing, and tailored to resonate with the buyer’s specific preferences. \n",
    "This involves subtly emphasizing aspects of the property that align with what the buyer is looking for. \n",
    "Ensure that the context provided enhances the appeal of the listing without altering factual information.\n",
    "\"\"\"\n",
    "\n",
    "query = f\"\"\"\n",
    "{system_prompt}\n",
    "\n",
    "{instructions} \n",
    "\n",
    "Buyer preferences are provided in a Q&A formatx.\n",
    "Buyer Preferences:\n",
    "{buyer_preferences}\n",
    "\"\"\"\n",
    "print(query)"
   ]
  },
  {
   "cell_type": "markdown",
   "id": "45260ad9",
   "metadata": {},
   "source": [
    "Augmented prompt"
   ]
  },
  {
   "cell_type": "code",
   "execution_count": 115,
   "id": "f86fb1b7",
   "metadata": {},
   "outputs": [
    {
     "name": "stdout",
     "output_type": "stream",
     "text": [
      "\n",
      "You are a real estage agent that provides personalised property descriptions based on buyer's preferences.\n",
      "\n",
      "\n",
      "Based on the property listings in the Context, generate personalized descriptions for the listings.\n",
      "The descriptions should be unique, appealing, and tailored to resonate with the buyer’s specific preferences. \n",
      "This involves subtly emphasizing aspects of the property that align with what the buyer is looking for. \n",
      "Ensure that the context provided enhances the appeal of the listing without altering factual information.\n",
      " \n",
      "\n",
      "Buyer preferences are provided in a Q&A formatx.\n",
      "Buyer Preferences:\n",
      "Q:How big do you want your house to be?\n",
      "A:A comfortable three-bedroom house with a spacious kitchen and a cozy living room.\n",
      "Q:What are 3 most important things for you in choosing this property?\n",
      "A:A quiet neighborhood, good local schools, and convenient shopping options.\n",
      "Q:Which amenities would you like?\n",
      "A:A backyard for gardening, a two-car garage, and a modern, energy-efficient heating system.\n",
      "Q:Which transportation options are important to you?\n",
      "A:Easy access to a reliable bus line, proximity to a major highway, and bike-friendly roads.\n",
      "Q:How urban do you want your neighborhood to be?\n",
      "A:A balance between suburban tranquility and access to urban amenities like restaurants and theaters.\n",
      "\n",
      "\n",
      "Context: \n",
      "Property 1:\n",
      "Escape to your own suburban paradise in this spacious 4-bedroom, 3-bathroom home. The property features a large backyard with a pool, perfect for outdoor entertaining. Inside, the home boasts a gourmet kitchen, a cozy fireplace in the living room, and a luxurious master suite. Enjoy the peace and tranquility of suburban living while still being close to shopping centers and top-rated schools.\n",
      "Suburban Paradise is a family-friendly neighborhood with tree-lined streets and parks. Residents can enjoy community events, farmers markets, and easy access to hiking trails and outdoor activities.\n",
      "Property 2:\n",
      "Step back in time with this charming 3-bedroom, 2-bathroom home located in the Historic District. The property features original hardwood floors, vintage fixtures, and a cozy front porch. The updated kitchen and bathrooms offer modern convenience while preserving the historic charm of the home. Enjoy living in a neighborhood rich in history and architectural character.\n",
      "The Historic District is a well-preserved neighborhood with historic homes, museums, and cultural landmarks. Residents can take a stroll through tree-lined streets and admire the unique architecture of the area.\n"
     ]
    }
   ],
   "source": [
    "context = \"\".join([f'\\nProperty {str(i + 1)}:\\n' + results['documents'][0][i] for i in range(len(results['documents'][0]))])\n",
    "\n",
    "prompt_augmented = query + f\"\\nContext: {context}\"\n",
    "print(prompt_augmented)"
   ]
  },
  {
   "cell_type": "markdown",
   "id": "a6ca44ca",
   "metadata": {},
   "source": [
    "Generation (Property Recommendations & Personalized Descriptions)"
   ]
  },
  {
   "cell_type": "code",
   "execution_count": 116,
   "id": "3bb6b984",
   "metadata": {},
   "outputs": [
    {
     "name": "stdout",
     "output_type": "stream",
     "text": [
      "----LLM Generated Personalized Descriptions of Two Recommended Properties------\n",
      "Property 1:\n",
      "Welcome to your suburban oasis in this spacious 4-bedroom, 3-bathroom home. Nestled in the family-friendly Suburban Paradise neighborhood, this property offers a large backyard perfect for gardening and outdoor gatherings. The gourmet kitchen is ideal for preparing family meals, while the cozy fireplace in the living room provides a warm and inviting atmosphere. The luxurious master suite is a peaceful retreat after a long day. With top-rated schools and shopping centers nearby, this home combines suburban tranquility with convenience.\n",
      "\n",
      "Property 2:\n",
      "Step into the past with this charming 3-bedroom, 2-bathroom home located in the Historic District. The original hardwood floors and vintage fixtures exude character and charm, while the updated kitchen and bathrooms offer modern comfort. Relax on the cozy front porch and soak in the historic ambiance of the neighborhood. The Historic District is a treasure trove of history and architectural beauty, perfect for those who appreciate the unique charm of a bygone era.\n"
     ]
    }
   ],
   "source": [
    "model_name = 'gpt-3.5-turbo'\n",
    "llm = OpenAI(model_name=model_name, temperature=0, max_tokens=2000)\n",
    "output = llm.predict(prompt_augmented)\n",
    "print(\"----LLM Generated Personalized Descriptions of Two Recommended Properties------\")\n",
    "print(output)"
   ]
  },
  {
   "cell_type": "markdown",
   "id": "f8b49c4e",
   "metadata": {},
   "source": [
    "Comparison with initial property description"
   ]
  },
  {
   "cell_type": "code",
   "execution_count": 117,
   "id": "e601ff05",
   "metadata": {},
   "outputs": [
    {
     "name": "stdout",
     "output_type": "stream",
     "text": [
      "\n",
      "Property 1:\n",
      "Escape to your own suburban paradise in this spacious 4-bedroom, 3-bathroom home. The property features a large backyard with a pool, perfect for outdoor entertaining. Inside, the home boasts a gourmet kitchen, a cozy fireplace in the living room, and a luxurious master suite. Enjoy the peace and tranquility of suburban living while still being close to shopping centers and top-rated schools.\n",
      "Suburban Paradise is a family-friendly neighborhood with tree-lined streets and parks. Residents can enjoy community events, farmers markets, and easy access to hiking trails and outdoor activities.\n",
      "Property 2:\n",
      "Step back in time with this charming 3-bedroom, 2-bathroom home located in the Historic District. The property features original hardwood floors, vintage fixtures, and a cozy front porch. The updated kitchen and bathrooms offer modern convenience while preserving the historic charm of the home. Enjoy living in a neighborhood rich in history and architectural character.\n",
      "The Historic District is a well-preserved neighborhood with historic homes, museums, and cultural landmarks. Residents can take a stroll through tree-lined streets and admire the unique architecture of the area.\n"
     ]
    }
   ],
   "source": [
    "print(context)"
   ]
  },
  {
   "cell_type": "code",
   "execution_count": null,
   "id": "5acfbeb7",
   "metadata": {},
   "outputs": [],
   "source": []
  }
 ],
 "metadata": {
  "kernelspec": {
   "display_name": "Python 3 (ipykernel)",
   "language": "python",
   "name": "python3"
  },
  "language_info": {
   "codemirror_mode": {
    "name": "ipython",
    "version": 3
   },
   "file_extension": ".py",
   "mimetype": "text/x-python",
   "name": "python",
   "nbconvert_exporter": "python",
   "pygments_lexer": "ipython3",
   "version": "3.10.11"
  }
 },
 "nbformat": 4,
 "nbformat_minor": 5
}
